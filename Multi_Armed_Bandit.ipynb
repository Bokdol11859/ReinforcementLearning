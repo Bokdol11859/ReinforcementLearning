{
  "nbformat": 4,
  "nbformat_minor": 0,
  "metadata": {
    "colab": {
      "name": "Multi-Armed Bandit.ipynb",
      "provenance": []
    },
    "kernelspec": {
      "name": "python3",
      "display_name": "Python 3"
    },
    "language_info": {
      "name": "python"
    }
  },
  "cells": [
    {
      "cell_type": "code",
      "execution_count": 43,
      "metadata": {
        "id": "Q1y0zhgYEHSr"
      },
      "outputs": [],
      "source": [
        "import numpy as np\n",
        "import random\n",
        "import math\n",
        "import pandas as pd\n",
        "import matplotlib.pyplot as plt\n",
        "%matplotlib inline"
      ]
    },
    {
      "cell_type": "code",
      "source": [
        "class SlotArm():\n",
        "  def __init__(self, percentage):\n",
        "    self.percentage = percentage # 코인이 나올 확률\n",
        "\n",
        "  def draw(self):\n",
        "    if self.percentage > random.random():\n",
        "      return 1.0\n",
        "    else:\n",
        "      return 0.0\n",
        "\n"
      ],
      "metadata": {
        "id": "pZNeeu1XErry"
      },
      "execution_count": 44,
      "outputs": []
    },
    {
      "cell_type": "code",
      "source": [
        "class EpsilonGreedy():\n",
        "  def __init__(self, epsilon):\n",
        "    self.epsilon = epsilon #탐색하는 확률\n",
        "\n",
        "\n",
        "  def initialize(self, n_arms):\n",
        "    self.tries = np.zeros(n_arms)\n",
        "    self.values = np.zeros(n_arms)\n",
        "\n",
        "  def select_arm(self):\n",
        "    if self.epsilon > random.random():\n",
        "      return np.random.randint(0, len(self.values))\n",
        "    else:\n",
        "      return np.argmax(self.values)\n",
        "      \n",
        "  def update(self, chosen_arm, reward, t):\n",
        "    self.tries[chosen_arm] += 1\n",
        "\n",
        "    tries = self.tries[chosen_arm]\n",
        "    values = self.values[chosen_arm]\n",
        "    self.values[chosen_arm] = ((tries-1) / float(tries)) * values + (1 / float(tries)) * reward\n",
        "\n",
        "  def label(self):\n",
        "    return 'e-greedy(' + str(self.epsilon) + \")\""
      ],
      "metadata": {
        "id": "HOU1VBIuFkZJ"
      },
      "execution_count": 45,
      "outputs": []
    },
    {
      "cell_type": "code",
      "source": [
        "class UCB1():\n",
        "  def initialize(self, n_arms):\n",
        "    self.tries = np.zeros(n_arms)\n",
        "    self.wins = np.zeros(n_arms)\n",
        "    self.values = np.zeros(n_arms)\n",
        "\n",
        "  def select_arm(self):\n",
        "    for i in range(len(self.tries)):\n",
        "      if self.tries[i] == 0:\n",
        "        return i\n",
        "    return np.argmax(self.values)\n",
        "\n",
        "  def update(self, chosen_arm, reward, t):\n",
        "    self.tries[chosen_arm] += 1\n",
        "\n",
        "    if reward == 1.0:\n",
        "      self.wins[chosen_arm] += 1\n",
        "\n",
        "    for i in range(len(self.tries)):\n",
        "      if self.tries[i] == 0:\n",
        "        return\n",
        "\n",
        "    for i in range(len(self.values)):\n",
        "      self.values[i] = self.wins[i] / self.tries[i] + (2 * math.log(t) / self.tries[i]) ** 0.5\n",
        "\n",
        "\n",
        "  def label(self):\n",
        "    return 'ucb1'"
      ],
      "metadata": {
        "id": "g0r_QdSQGqpn"
      },
      "execution_count": 46,
      "outputs": []
    },
    {
      "cell_type": "code",
      "source": [
        "def play(algo, arms, num_sims, num_time):\n",
        "  times = np.zeros(num_sims * num_time)\n",
        "  rewards = np.zeros(num_sims * num_time)\n",
        "\n",
        "  for sim in range(num_sims):\n",
        "    algo.initialize(len(arms))\n",
        "    for time in range(num_time):\n",
        "      index = sim * num_time + time\n",
        "\n",
        "      times[index] = time + 1\n",
        "      chosen_arm = algo.select_arm()\n",
        "      reward = arms[chosen_arm].draw()\n",
        "      rewards[index] = reward\n",
        "      algo.update(chosen_arm, reward, time + 1)\n",
        "\n",
        "  return [times, rewards]"
      ],
      "metadata": {
        "id": "l2g9nntTIFGE"
      },
      "execution_count": 47,
      "outputs": []
    },
    {
      "cell_type": "code",
      "source": [
        "arms = (SlotArm(0.3), SlotArm(0.5), SlotArm(0.9))\n",
        "\n",
        "algos = (EpsilonGreedy(0.1), UCB1())\n",
        "\n",
        "for algo in algos:\n",
        "  results = play(algo, arms, 10000, 250)\n",
        "\n",
        "  df = pd.DataFrame({'times': results[0], 'rewards': results[1]})\n",
        "  mean = df['rewards'].groupby(df['times']).mean()\n",
        "  plt.plot(mean, label = algo.label())\n",
        "\n",
        "plt.xlabel('Step')\n",
        "plt.ylabel('Average Reward')\n",
        "plt.legend(loc = 'best')\n",
        "plt.show()"
      ],
      "metadata": {
        "colab": {
          "base_uri": "https://localhost:8080/",
          "height": 279
        },
        "id": "XaxXUTclIqh-",
        "outputId": "478f5f55-f639-4454-b336-03024c4def25"
      },
      "execution_count": 48,
      "outputs": [
        {
          "output_type": "display_data",
          "data": {
            "text/plain": [
              "<Figure size 432x288 with 1 Axes>"
            ],
            "image/png": "[encoded data removed]"
          },
          "metadata": {
            "needs_background": "light"
          }
        }
      ]
    },
    {
      "cell_type": "code",
      "source": [
        ""
      ],
      "metadata": {
        "id": "Y3bnhorPJVKI"
      },
      "execution_count": 48,
      "outputs": []
    }
  ]
}